{
  "nbformat": 4,
  "nbformat_minor": 0,
  "metadata": {
    "colab": {
      "provenance": [],
      "authorship_tag": "ABX9TyPTfp0Tes4QL1Xw99In7wR9",
      "include_colab_link": true
    },
    "kernelspec": {
      "name": "python3",
      "display_name": "Python 3"
    },
    "language_info": {
      "name": "python"
    }
  },
  "cells": [
    {
      "cell_type": "markdown",
      "metadata": {
        "id": "view-in-github",
        "colab_type": "text"
      },
      "source": [
        "<a href=\"https://colab.research.google.com/github/creatingaaaaaaa/BP_05_Ch3/blob/main/Untitled2.ipynb\" target=\"_parent\"><img src=\"https://colab.research.google.com/assets/colab-badge.svg\" alt=\"Open In Colab\"/></a>"
      ]
    },
    {
      "cell_type": "code",
      "execution_count": 1,
      "metadata": {
        "colab": {
          "base_uri": "https://localhost:8080/"
        },
        "id": "hL_LTLJlugb_",
        "outputId": "307ddfe9-284a-4850-ad9d-52eeaf3d36ef"
      },
      "outputs": [
        {
          "output_type": "stream",
          "name": "stdout",
          "text": [
            "현재 시간(영국그리니치 시각) : 12 시 18 분\n"
          ]
        }
      ],
      "source": [
        "import time\n",
        "fseconds = time.time() // 60\n",
        "minute= fseconds % 60\n",
        "hour = fseconds //60 % 24\n",
        "print(\"현재 시간(영국그리니치 시각) :\",int(hour),\"시\",int(minute),\"분\")"
      ]
    },
    {
      "cell_type": "code",
      "source": [
        "weight = int(input(\"물체의 무게를 입력하시오(킬로그램):\"))\n",
        "speed = int(input(\"물체의 속도를 입력하시오(미터/초):\"))\n",
        "print(\"물체는\",1/2*weight*speed**2,\"(줄)의 에너지를 갖고있다\")"
      ],
      "metadata": {
        "colab": {
          "base_uri": "https://localhost:8080/"
        },
        "id": "iIMuCIrGuo4y",
        "outputId": "5c6300fb-3bfd-466b-d974-e292295ef796"
      },
      "execution_count": 2,
      "outputs": [
        {
          "output_type": "stream",
          "name": "stdout",
          "text": [
            "물체의 무게를 입력하시오(킬로그램):10\n",
            "물체의 속도를 입력하시오(미터/초):100\n",
            "물체는 50000.0 (줄)의 에너지를 갖고있다\n"
          ]
        }
      ]
    }
  ]
}