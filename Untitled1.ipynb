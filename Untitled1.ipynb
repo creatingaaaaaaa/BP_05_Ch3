{
  "nbformat": 4,
  "nbformat_minor": 0,
  "metadata": {
    "colab": {
      "provenance": [],
      "authorship_tag": "ABX9TyMGiGtzNnkUHl0DrdgwZ9TQ",
      "include_colab_link": true
    },
    "kernelspec": {
      "name": "python3",
      "display_name": "Python 3"
    },
    "language_info": {
      "name": "python"
    }
  },
  "cells": [
    {
      "cell_type": "markdown",
      "metadata": {
        "id": "view-in-github",
        "colab_type": "text"
      },
      "source": [
        "<a href=\"https://colab.research.google.com/github/creatingaaaaaaa/BP_05_Ch3/blob/main/Untitled1.ipynb\" target=\"_parent\"><img src=\"https://colab.research.google.com/assets/colab-badge.svg\" alt=\"Open In Colab\"/></a>"
      ]
    },
    {
      "cell_type": "code",
      "execution_count": 1,
      "metadata": {
        "colab": {
          "base_uri": "https://localhost:8080/"
        },
        "id": "KQJcy-ku6bcc",
        "outputId": "cf0e49aa-6cb9-4633-8f54-35dcdab8cbf1"
      },
      "outputs": [
        {
          "output_type": "stream",
          "name": "stdout",
          "text": [
            "x의 값은?:10\n",
            "y의값은?:20\n",
            "두수의 합은: 30\n",
            "두수의 차는: -10\n",
            "두수의 곱은: 200\n",
            "두수의 평균은: 15.0\n",
            "큰수는: 20\n",
            "작은수는: 10\n"
          ]
        }
      ],
      "source": [
        "x = int(input(\"x의 값은?:\"))\n",
        "y=int(input(\"y의값은?:\"))\n",
        "print(\"두수의 합은:\",x + y)\n",
        "print(\"두수의 차는:\",x - y)\n",
        "print(\"두수의 곱은:\",x * y)\n",
        "print(\"두수의 평균은:\",(x + y)/2)\n",
        "print(\"큰수는:\",max(x,y))\n",
        "print(\"작은수는:\", min(x,y))"
      ]
    },
    {
      "cell_type": "code",
      "source": [
        "r = float(input(\"r값은:\"))\n",
        "h = float(input(\"h값은:\"))\n",
        "vol = 3.141592*r**2*h\n",
        "print(\"원기둥의 부피는:\",vol)\n"
      ],
      "metadata": {
        "colab": {
          "base_uri": "https://localhost:8080/"
        },
        "id": "XiPswUIJ6kJo",
        "outputId": "d8fef0c1-3754-443a-af1c-661586860d05"
      },
      "execution_count": 2,
      "outputs": [
        {
          "output_type": "stream",
          "name": "stdout",
          "text": [
            "r값은:10\n",
            "h값은:100\n",
            "원기둥의 부피는: 31415.92\n"
          ]
        }
      ]
    },
    {
      "cell_type": "code",
      "source": [
        "number = int(input(\"정수를 입력하시오.:\"))\n",
        "sum = 0\n",
        "sum = sum + number % 10\n",
        "number = number // 10\n",
        "\n",
        "sum = sum + number % 10\n",
        "number = number // 10\n",
        "\n",
        "sum = sum + number % 10\n",
        "number = number // 10\n",
        "\n",
        "sum = sum + number % 10\n",
        "number = number // 10\n",
        "\n",
        "print(\"자리수의 합은:\" ,str(sum))"
      ],
      "metadata": {
        "colab": {
          "base_uri": "https://localhost:8080/"
        },
        "id": "Eme8aBIr64Yk",
        "outputId": "286aec95-a13e-4c93-bbe7-df0e8f5292f1"
      },
      "execution_count": 3,
      "outputs": [
        {
          "output_type": "stream",
          "name": "stdout",
          "text": [
            "정수를 입력하시오.:1234\n",
            "자리수의 합은: 10\n"
          ]
        }
      ]
    },
    {
      "cell_type": "code",
      "source": [
        "x1=int(input(\"x1의값을 입력하시오:\"))\n",
        "x2=int(input(\"x2의값을 입력하시오:\"))\n",
        "y1=int(input(\"y1의값을 입력하시오:\"))\n",
        "y2=int(input(\"y2의값을 입력하시오:\"))\n",
        "dist= ((x2-x1) **2 + (y2 - y1) **2 )**0.5\n",
        "print(\"두점의 사이의 거리는:\", dist,\"입니다\")"
      ],
      "metadata": {
        "colab": {
          "base_uri": "https://localhost:8080/"
        },
        "id": "hTBhoDhl6-qV",
        "outputId": "417d4db3-49a0-4c3a-a342-13a809b25d79"
      },
      "execution_count": 4,
      "outputs": [
        {
          "output_type": "stream",
          "name": "stdout",
          "text": [
            "x1의값을 입력하시오:0\n",
            "x2의값을 입력하시오:100\n",
            "y1의값을 입력하시오:0\n",
            "y2의값을 입력하시오:100\n",
            "두점의 사이의 거리는: 141.4213562373095 입니다\n"
          ]
        }
      ]
    },
    {
      "cell_type": "code",
      "source": [
        "import turtle\n",
        "t = turtle.Turtle()\n",
        "t. shape(\"turtle\")\n",
        "t.lt(45)\n",
        "t.fd(141)\n",
        "t.setheading(0) \n",
        "t.goto(0,0)\n",
        "t.fd(100)\n",
        "t.lt(90)\n",
        "t.fd(100)"
      ],
      "metadata": {
        "id": "FYHXG7ND7E4D"
      },
      "execution_count": null,
      "outputs": []
    },
    {
      "cell_type": "code",
      "source": [
        "import turtle\n",
        "t = turtle.Turtle()\n",
        "t. shape(\"turtle\")\n",
        "x1 = int(input(\"x1:\"))\n",
        "x1:0\n",
        "y1 = int(input(\"y1:\"))\n",
        "y1:0\n",
        "x2 = int(input(\"x2:\"))\n",
        "x2:100\n",
        "y2 = int(input(\"y2:\"))\n",
        "y2:100\n",
        "dist = ((x2-x1) **2 + (y2 - y1) **2 )**0.5\n",
        "t.up()\n",
        "t.goto(x1,y1)\n",
        "t.down()\n",
        "t.goto(x2,y2)\n",
        "t.write(\"점의길이=\" + str(dist))"
      ],
      "metadata": {
        "id": "ovSgTn6P7KPB"
      },
      "execution_count": null,
      "outputs": []
    }
  ]
}